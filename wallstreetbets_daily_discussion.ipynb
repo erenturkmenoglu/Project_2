{
 "cells": [
  {
   "cell_type": "code",
   "execution_count": 1,
   "metadata": {},
   "outputs": [],
   "source": [
    "# Importing libraries\n",
    "import praw\n",
    "import pandas as pd\n",
    "from praw.models import MoreComments\n",
    "import datetime"
   ]
  },
  {
   "cell_type": "code",
   "execution_count": 2,
   "metadata": {},
   "outputs": [
    {
     "name": "stdout",
     "output_type": "stream",
     "text": [
      "2020-11-29\n"
     ]
    }
   ],
   "source": [
    "today = datetime.date.today()\n",
    "print(today)"
   ]
  },
  {
   "cell_type": "code",
   "execution_count": 3,
   "metadata": {},
   "outputs": [],
   "source": [
    "# Authenticating Reddit account\n",
    "reddit = praw.Reddit(client_id='ynA1ypO4kMVwRA', client_secret='dtFwv4-mgMDeI9uPm0GPieCRaFn8Dw', user_agent='Reddit_NLP')"
   ]
  },
  {
   "cell_type": "code",
   "execution_count": 4,
   "metadata": {},
   "outputs": [
    {
     "name": "stdin",
     "output_type": "stream",
     "text": [
      "Please enter a subreddit : wallstreetbets\n"
     ]
    }
   ],
   "source": [
    "subreddit_entry = input('Please enter a subreddit :')"
   ]
  },
  {
   "cell_type": "code",
   "execution_count": 9,
   "metadata": {},
   "outputs": [
    {
     "name": "stdout",
     "output_type": "stream",
     "text": [
      "Title     : Daily Discussion Thread for November 27, 2020 \n",
      "ID Number : k1zap5\n"
     ]
    }
   ],
   "source": [
    "# Pulling hot posts\n",
    "hot_posts = reddit.subreddit(subreddit_entry).hot(limit=1)\n",
    "for post in hot_posts:\n",
    "    print(f\"Title     : {post.title} \\nID Number : {post.id}\")"
   ]
  },
  {
   "cell_type": "code",
   "execution_count": 10,
   "metadata": {},
   "outputs": [],
   "source": [
    "submission = reddit.submission(id=post.id)"
   ]
  },
  {
   "cell_type": "code",
   "execution_count": 11,
   "metadata": {},
   "outputs": [],
   "source": [
    "# Get comments of a subreddit \n",
    "wallstreetbets_daily_text = open(f\"{subreddit_entry}_{today}.txt\", \"w\")\n",
    "for top_level_comment in submission.comments:\n",
    "    if isinstance(top_level_comment, MoreComments):\n",
    "        continue\n",
    "    #print(top_level_comment.body)\n",
    "    wallstreetbets_daily_text.write(top_level_comment.body)\n",
    "wallstreetbets_daily_text.close()"
   ]
  },
  {
   "cell_type": "code",
   "execution_count": null,
   "metadata": {},
   "outputs": [],
   "source": []
  }
 ],
 "metadata": {
  "kernelspec": {
   "display_name": "Python 3",
   "language": "python",
   "name": "python3"
  },
  "language_info": {
   "codemirror_mode": {
    "name": "ipython",
    "version": 3
   },
   "file_extension": ".py",
   "mimetype": "text/x-python",
   "name": "python",
   "nbconvert_exporter": "python",
   "pygments_lexer": "ipython3",
   "version": "3.8.2"
  }
 },
 "nbformat": 4,
 "nbformat_minor": 4
}
