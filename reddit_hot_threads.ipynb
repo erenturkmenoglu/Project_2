{
 "cells": [
  {
   "cell_type": "code",
   "execution_count": 1,
   "metadata": {},
   "outputs": [],
   "source": [
    "# Importing libraries\n",
    "import praw\n",
    "import pandas as pd"
   ]
  },
  {
   "cell_type": "code",
   "execution_count": 4,
   "metadata": {},
   "outputs": [],
   "source": [
    "# Authenticating Reddit account\n",
    "reddit = praw.Reddit(client_id='ynA1ypO4kMVwRA', client_secret='dtFwv4-mgMDeI9uPm0GPieCRaFn8Dw', user_agent='Reddit_NLP')"
   ]
  },
  {
   "cell_type": "code",
   "execution_count": 2,
   "metadata": {},
   "outputs": [
    {
     "name": "stdin",
     "output_type": "stream",
     "text": [
      "Please enter a subreddit : wallstreetbets\n"
     ]
    }
   ],
   "source": [
    "subreddit_entry = input('Please enter a subreddit :')"
   ]
  },
  {
   "cell_type": "code",
   "execution_count": 5,
   "metadata": {
    "collapsed": true,
    "jupyter": {
     "outputs_hidden": true
    }
   },
   "outputs": [
    {
     "name": "stdout",
     "output_type": "stream",
     "text": [
      "Weekend Discussion Thread for the Weekend of December 04, 2020 https://www.reddit.com/r/wallstreetbets/comments/k6tl0d/weekend_discussion_thread_for_the_weekend_of/\n",
      "One of us https://i.redd.it/sd2g4vbf1e361.jpg\n",
      "200,000% Return. 4 Pre-split TSLA options purchased summer 2019. Still holding... https://i.redd.it/wc6yi8xqce361.jpg\n",
      "It'd be like that https://v.redd.it/1u8x1uimzc361\n",
      "WSB reading Citron reports https://v.redd.it/ugx87npwed361\n",
      "Made 6 figures this year and asked my account how to avoid paying taxes. He said lose everything by 12/31. I'm 27 days ahead of schedule. https://imgur.com/MgoNFiP\n",
      "100% gain https://i.redd.it/zegpcj6d69361.jpg\n",
      "About 2 years ago I invested in SYN. It started tanking the same day. https://i.redd.it/0gvzi7uvld361.jpg\n",
      "This is why you don’t bet against Elon. https://i.redd.it/yn4hpo81k7361.jpg\n",
      "New retard lost 20k, and goes whining to r/stocks https://i.redd.it/ljsun2fzc9361.png\n",
      "Do I belong here yet? https://i.redd.it/7aww5jcd8a361.png\n",
      "PLTR - Past, Present, Future https://v.redd.it/78kn4zaapa361\n",
      "All positions (except one) are because of WSB... thanks all! https://i.redd.it/w9r4i6na1d361.jpg\n",
      "I set up my Elgato Streamdeck XL to display quotes of stocks and cryptocurrencies (refresh options as little as one second) and quickly accessing trading information and accounts. This folder is nested and uses only one key to activate, so I have 31 other program groups I can create. https://i.redd.it/dv0ju7pdle361.jpg\n",
      "When's the GME investor meeting for its 5th largest holder? https://www.reddit.com/r/wallstreetbets/comments/k78srf/whens_the_gme_investor_meeting_for_its_5th/\n",
      "finally got my business degree from wsb university https://i.redd.it/aeam11u6k8361.png\n",
      "When I told you to buy this stock you banned me for a month from wsb, and at that moment I knew I was right https://i.redd.it/r7owc4fnz7361.jpg\n",
      "I’ll wait until they’ve gone up 100% https://i.redd.it/qtsw24nhq8361.jpg\n",
      "THOSE WHO HAVE BEEN LOST WILL NOT BE FORGOTTEN https://v.redd.it/nifadwikm6361\n",
      "Light GME DD for your trade-free Saturday morning https://www.reddit.com/r/wallstreetbets/comments/k798kr/light_gme_dd_for_your_tradefree_saturday_morning/\n",
      "WSB’ers when they finally get the chance to interview for a real finance job https://v.redd.it/8uatlvk5oa361\n",
      "Most Anticipated Earnings Releases for the week beginning December 7, 2020 https://i.redd.it/d7rhuffb3e361.jpg\n",
      "Lately, so Greatly, Take me Home https://v.redd.it/hkwgr8ljgb361\n",
      "Does anyone else almost feel bad for profiting so much during a pandemic? https://i.redd.it/6nfyr9g2lc361.jpg\n",
      "CRSR Call holders https://i.redd.it/2i6e58s0fe361.gif\n",
      "UPPING THE ANTE: If SPY closes below 360 by next Friday I will donate $100 to the top 10 commentors below. If SPY closes above 375 next Friday I will get JPow's face and \"Don't Fight The Fed\" tattooed on my ass. https://www.reddit.com/r/wallstreetbets/comments/k6z61n/upping_the_ante_if_spy_closes_below_360_by_next/\n",
      "Thank you all for changing my life. https://i.redd.it/qqcbt9wun8361.png\n",
      "Getting off this roller coaster.... https://v.redd.it/tquw354a5a361\n",
      "NIO, AMD, TSLA, PLTR, SPY 12/4 Prediction Recap https://www.reddit.com/r/wallstreetbets/comments/k751u1/nio_amd_tsla_pltr_spy_124_prediction_recap/\n",
      "GME Gang checking in https://www.reddit.com/r/wallstreetbets/comments/k7bzkw/gme_gang_checking_in/\n",
      "⚠️ Warning to my EV SPAC Bubble Homies: This Will End ⚠️ https://www.reddit.com/r/wallstreetbets/comments/k77cgs/warning_to_my_ev_spac_bubble_homies_this_will_end/\n",
      "Listen retards, CRM should be your major easy-money move next week (fool-proof instructions inside) https://www.reddit.com/r/wallstreetbets/comments/k6z2fs/listen_retards_crm_should_be_your_major_easymoney/\n",
      "A light spar https://v.redd.it/bh337nnwq6361\n",
      "Sad reality https://i.redd.it/i2eizl3ore361.jpg\n",
      "normie friends asking me for “stock advice” not knowing I’m down 99% all time waiting on a stimulus check https://i.redd.it/t12k69oucb361.jpg\n",
      "PLTR | Palantir's CEO Alex Karp on a mission to the moon. https://www.reddit.com/r/wallstreetbets/comments/k772lg/pltr_palantirs_ceo_alex_karp_on_a_mission_to_the/\n",
      "Senator David Perdue is one of us boys https://i.redd.it/zapdr9oz39361.jpg\n",
      "CVS Money https://i.redd.it/dx3okr1vnd361.jpg\n",
      "Steve Wozniak is starting another company, 45 years after co-founding Apple with Steve Jobs... more tendies incoming. https://www.cnbc.com/2020/12/04/apple-co-founder-steve-wozniak-is-starting-a-second-company-efforce.html\n",
      "I heard I can trade this in for internet points. https://i.redd.it/2ztw2l2qu4361.jpg\n",
      "I track the day’s highest returning options. Here’s what you missed out on (12/4) https://i.redd.it/4sq59vvmx8361.jpg\n",
      "AMC starts 'urgent dialogue' with Warner Bros over its plan to put all its 2021 movies on HBO Max https://finance.yahoo.com/news/amc-starts-urgent-dialogue-with-warner-bros-over-its-plan-to-put-all-its-2021-movies-on-hbo-max-125942687.html\n",
      "Tesla Fanboys broke Dr Burry. He deleted all his tweets, changed his name, picture and profile pic https://i.redd.it/ot5zfnglm8361.png\n",
      "Boomer Gains: $47.7k profit on Intel calls. https://i.redd.it/d84p2tlwke361.png\n",
      "I tried r/investing 4% RoR and it was boring, so I went all in on tesla calls and shares. 1Mil by 30 is the goal https://i.imgur.com/a6wDkLk.png\n",
      "But Mom i want to buy PLTR https://v.redd.it/0ru89ivda7361\n",
      "Man of GameStop https://v.redd.it/o8d442wcaa361\n",
      "PLTR at every market open https://v.redd.it/vlluorq1o6361\n",
      "Citron vs. WSB PLTR Neanderthals https://v.redd.it/xl3p5umtc7361\n",
      "Most Anticipated Earnings Releases for the week beginning December 7th, 2020 https://i.redd.it/1dp4f5lcxa361.png\n"
     ]
    }
   ],
   "source": [
    "# Pulling hot posts\n",
    "hot_posts = reddit.subreddit(subreddit_entry).hot(limit=50)\n",
    "for post in hot_posts:\n",
    "    print(post.title, post.url)"
   ]
  },
  {
   "cell_type": "code",
   "execution_count": 5,
   "metadata": {
    "collapsed": true,
    "jupyter": {
     "outputs_hidden": true
    }
   },
   "outputs": [
    {
     "name": "stdout",
     "output_type": "stream",
     "text": [
      "**We recommend using the new Reddit layout**\n",
      "\n",
      "**You are currently on old Reddit.**\n",
      "\n",
      "The rules and submission guidelines are maintained on new Reddit so be sure to check them and make sure you're up to date.\n",
      "\n",
      "* Read the [rules](https://www.reddit.com/r/wallstreetbets/about/rules)\n",
      "\n",
      "* Read the [comment and submission guide](https://www.reddit.com/r/wallstreetbets/wiki/contentguide)\n",
      "\n",
      "* Read the [FAQ](https://www.reddit.com/r/wallstreetbets/wiki/faq) if you're new to both wallstreetbets and trading.\n",
      "\n",
      "* [**WSB Discord Chat**](https://discord.gg/wallstreetbets)\n",
      "\n",
      "-----\n",
      "\n",
      "^Navigate ^WSB |^We ^recommend ^best ^daily ^DD\n",
      ":--|:--     \n",
      "**DD** | [All](https://ns.reddit.com/r/wallstreetbets/search?sort=new&restrict_sr=on&q=flair%3ADD) / [**Best Daily**](https://ns.reddit.com/r/wallstreetbets/search?sort=top&q=flair%3ADD&restrict_sr=on&t=day) / [Best Weekly](https://ns.reddit.com/r/wallstreetbets/search?sort=top&q=flair%3ADD&restrict_sr=on&t=week)\n",
      "**Discussion** | [All](https://ns.reddit.com/r/wallstreetbets/search?sort=new&restrict_sr=on&q=flair%3ADiscussion) / [**Best Daily**](https://ns.reddit.com/r/wallstreetbets/search?sort=top&q=flair%3ADiscussion&restrict_sr=on&t=day) / [Best Weekly](https://ns.reddit.com/r/wallstreetbets/search?sort=top&q=flair%3ADiscussion&restrict_sr=on&t=week)\n",
      "**YOLO** | [All](https://ns.reddit.com/r/wallstreetbets/search?sort=new&restrict_sr=on&q=flair%3AYOLO) / [**Best Daily**](https://ns.reddit.com/r/wallstreetbets/search?sort=top&q=flair%3AYOLO&restrict_sr=on&t=day) / [Best Weekly](https://ns.reddit.com/r/wallstreetbets/search?sort=top&q=flair%3AYOLO&restrict_sr=on&t=week)\n",
      "**Gain** | [All](https://ns.reddit.com/r/wallstreetbets/search?sort=new&restrict_sr=on&q=flair%3AGain) / [**Best Daily**](https://ns.reddit.com/r/wallstreetbets/search?sort=top&q=flair%3AGain&restrict_sr=on&t=day) / [Best Weekly](https://ns.reddit.com/r/wallstreetbets/search?sort=top&q=flair%3AGain&restrict_sr=on&t=week)\n",
      "**Loss** | [All](https://ns.reddit.com/r/wallstreetbets/search?sort=new&restrict_sr=on&q=flair%3ALoss) / [**Best Daily**](https://ns.reddit.com/r/wallstreetbets/search?sort=top&q=flair%3ALoss&restrict_sr=on&t=day) / [Best Weekly](https://ns.reddit.com/r/wallstreetbets/search?sort=top&q=flair%3ALoss&restrict_sr=on&t=week)\n",
      "**Shitpost** | [All](https://ns.reddit.com/r/wallstreetbets/search?sort=new&restrict_sr=on&q=flair%3AShitpost) / [**Best Daily**](https://ns.reddit.com/r/wallstreetbets/search?sort=top&q=flair%3AShitpost&restrict_sr=on&t=day) / [Best Weekly](https://ns.reddit.com/r/wallstreetbets/search?sort=top&q=flair%3AShitpost&restrict_sr=on&t=week)\n",
      "**Meme** | [All](https://ns.reddit.com/r/wallstreetbets/search?sort=new&restrict_sr=on&q=flair%3AMeme) / [**Best Daily**](https://ns.reddit.com/r/wallstreetbets/search?sort=top&q=flair%3AMeme&restrict_sr=on&t=day) / [Best Weekly](https://ns.reddit.com/r/wallstreetbets/search?sort=top&q=flair%3AMeme&restrict_sr=on&t=week)\n",
      "**Storytime** | [All](https://ns.reddit.com/r/wallstreetbets/search?sort=new&restrict_sr=on&q=flair%3AStorytime) / [**Best Daily**](https://ns.reddit.com/r/wallstreetbets/search?sort=top&q=flair%3AStorytime&restrict_sr=on&t=day) / [Best Weekly](https://ns.reddit.com/r/wallstreetbets/search?sort=top&q=flair%3AStorytime&restrict_sr=on&t=week)\n",
      "**Satire** | [All](https://ns.reddit.com/r/wallstreetbets/search?sort=new&restrict_sr=on&q=flair%3ASatire) / [**Best Daily**](https://ns.reddit.com/r/wallstreetbets/search?sort=top&q=flair%3ASatire&restrict_sr=on&t=day) / [Best Weekly](https://ns.reddit.com/r/wallstreetbets/search?sort=top&q=flair%3ASatire&restrict_sr=on&t=week)\n",
      "**Options** | [All](https://ns.reddit.com/r/wallstreetbets/search?sort=new&restrict_sr=on&q=flair%3AOptions) / [**Best Daily**](https://ns.reddit.com/r/wallstreetbets/search?sort=top&q=flair%3AOptions&restrict_sr=on&t=day) / [Best Weekly](https://ns.reddit.com/r/wallstreetbets/search?sort=top&q=flair%3AOptions&restrict_sr=on&t=week)\n",
      "**Futures** | [All](https://ns.reddit.com/r/wallstreetbets/search?sort=new&restrict_sr=on&q=flair%3AFutures) / [**Best Daily**](https://ns.reddit.com/r/wallstreetbets/search?sort=top&q=flair%3AFutures&restrict_sr=on&t=day) / [Best Weekly](https://ns.reddit.com/r/wallstreetbets/search?sort=top&q=flair%3AFutures&restrict_sr=on&t=week)\n",
      "**Forex** | [All](https://ns.reddit.com/r/wallstreetbets/search?sort=new&restrict_sr=on&q=flair%3AForex) / [**Best Daily**](https://ns.reddit.com/r/wallstreetbets/search?sort=top&q=flair%3AForex&restrict_sr=on&t=day) / [Best Weekly](https://ns.reddit.com/r/wallstreetbets/search?sort=top&q=flair%3AForex&restrict_sr=on&t=week)\n",
      "**Stocks** | [All](https://ns.reddit.com/r/wallstreetbets/search?sort=new&restrict_sr=on&q=flair%3AStocks) / [**Best Daily**](https://ns.reddit.com/r/wallstreetbets/search?sort=top&q=flair%3AStocks&restrict_sr=on&t=day) / [Best Weekly](https://ns.reddit.com/r/wallstreetbets/search?sort=top&q=flair%3AStocks&restrict_sr=on&t=week)\n",
      "**Fundamentals** | [All](https://ns.reddit.com/r/wallstreetbets/search?sort=new&restrict_sr=on&q=flair%3AFundamentals) / [**Best Daily**](https://ns.reddit.com/r/wallstreetbets/search?sort=top&q=flair%3AFundamentals&restrict_sr=on&t=day) / [Best Weekly](https://ns.reddit.com/r/wallstreetbets/search?sort=top&q=flair%3AFundamentals&restrict_sr=on&t=week)\n",
      "**Technicals** | [All](https://ns.reddit.com/r/wallstreetbets/search?sort=new&restrict_sr=on&q=flair%3ATechnicals) / [**Best Daily**](https://ns.reddit.com/r/wallstreetbets/search?sort=top&q=flair%3ATechnicals&restrict_sr=on&t=day) / [Best Weekly](https://ns.reddit.com/r/wallstreetbets/search?sort=top&q=flair%3ATechnicals&restrict_sr=on&t=week)\n",
      "\n",
      "\n",
      "[Earnings Thread](https://reddit.com/r/wallstreetbets/search?sort=new&restrict_sr=on&q=flair%3A\"Earnings%20Thread\") - [Daily Thread](https://reddit.com/r/wallstreetbets/search?sort=new&restrict_sr=on&q=flair%3A\"Daily%20Discussion\")\n",
      "\n",
      "-----\n",
      "\n",
      "**Market Trading Hours**\n",
      "\n",
      "|Exchange|Open|Close|\n",
      "|:-------:|--------:|--------:|\n",
      "|[Frankfurt](http://goo.gl/9teCjs) | 9:00 AM | 8:00 PM | \n",
      "|[New York](https://goo.gl/eODOhO) | 9:30 AM  | 4:00 PM|\n",
      "|[CME](http://goo.gl/VZZDPg) | 5:00 PM | 4:15 PM |\n",
      "|[CBOE](http://goo.gl/fMSNBY) | 8:30 AM | 3:15 PM  |\n",
      "|[Tokyo](http://goo.gl/Aiwygk) | 9:00 AM | 3:00 PM  |\n",
      "|[Hong Kong](http://goo.gl/vLR2vh) | 9:30 AM | 4:00 PM  |\n",
      "* Hours respective to their own timezone.\n",
      "\n",
      "[^^source](https://goo.gl/hk9CB4)\n"
     ]
    }
   ],
   "source": [
    "# Get general information about subreddit data\n",
    "description_subreddit = reddit.subreddit(subreddit_entry).description\n",
    "print(description_subreddit)"
   ]
  },
  {
   "cell_type": "code",
   "execution_count": 6,
   "metadata": {},
   "outputs": [
    {
     "data": {
      "text/html": [
       "<div>\n",
       "<style scoped>\n",
       "    .dataframe tbody tr th:only-of-type {\n",
       "        vertical-align: middle;\n",
       "    }\n",
       "\n",
       "    .dataframe tbody tr th {\n",
       "        vertical-align: top;\n",
       "    }\n",
       "\n",
       "    .dataframe thead th {\n",
       "        text-align: right;\n",
       "    }\n",
       "</style>\n",
       "<table border=\"1\" class=\"dataframe\">\n",
       "  <thead>\n",
       "    <tr style=\"text-align: right;\">\n",
       "      <th></th>\n",
       "      <th>title</th>\n",
       "      <th>score</th>\n",
       "      <th>subreddit</th>\n",
       "      <th>url</th>\n",
       "      <th>num_comments</th>\n",
       "      <th>body</th>\n",
       "    </tr>\n",
       "    <tr>\n",
       "      <th>id</th>\n",
       "      <th></th>\n",
       "      <th></th>\n",
       "      <th></th>\n",
       "      <th></th>\n",
       "      <th></th>\n",
       "      <th></th>\n",
       "    </tr>\n",
       "  </thead>\n",
       "  <tbody>\n",
       "    <tr>\n",
       "      <th>k6tl0d</th>\n",
       "      <td>Weekend Discussion Thread for the Weekend of D...</td>\n",
       "      <td>308</td>\n",
       "      <td>wallstreetbets</td>\n",
       "      <td>https://www.reddit.com/r/wallstreetbets/commen...</td>\n",
       "      <td>16732</td>\n",
       "      <td>Your weekend discussion thread.</td>\n",
       "    </tr>\n",
       "    <tr>\n",
       "      <th>k79htv</th>\n",
       "      <td>One of us</td>\n",
       "      <td>7359</td>\n",
       "      <td>wallstreetbets</td>\n",
       "      <td>https://i.redd.it/sd2g4vbf1e361.jpg</td>\n",
       "      <td>169</td>\n",
       "      <td></td>\n",
       "    </tr>\n",
       "    <tr>\n",
       "      <th>k7anqp</th>\n",
       "      <td>200,000% Return. 4 Pre-split TSLA options purc...</td>\n",
       "      <td>1657</td>\n",
       "      <td>wallstreetbets</td>\n",
       "      <td>https://i.redd.it/wc6yi8xqce361.jpg</td>\n",
       "      <td>400</td>\n",
       "      <td></td>\n",
       "    </tr>\n",
       "    <tr>\n",
       "      <th>k76crq</th>\n",
       "      <td>It'd be like that</td>\n",
       "      <td>3766</td>\n",
       "      <td>wallstreetbets</td>\n",
       "      <td>https://v.redd.it/1u8x1uimzc361</td>\n",
       "      <td>143</td>\n",
       "      <td></td>\n",
       "    </tr>\n",
       "    <tr>\n",
       "      <th>k77i69</th>\n",
       "      <td>WSB reading Citron reports</td>\n",
       "      <td>1919</td>\n",
       "      <td>wallstreetbets</td>\n",
       "      <td>https://v.redd.it/ugx87npwed361</td>\n",
       "      <td>69</td>\n",
       "      <td></td>\n",
       "    </tr>\n",
       "    <tr>\n",
       "      <th>...</th>\n",
       "      <td>...</td>\n",
       "      <td>...</td>\n",
       "      <td>...</td>\n",
       "      <td>...</td>\n",
       "      <td>...</td>\n",
       "      <td>...</td>\n",
       "    </tr>\n",
       "    <tr>\n",
       "      <th>k58igt</th>\n",
       "      <td>GME PT Upgrade</td>\n",
       "      <td>491</td>\n",
       "      <td>wallstreetbets</td>\n",
       "      <td>https://imgur.com/fludqTn</td>\n",
       "      <td>73</td>\n",
       "      <td></td>\n",
       "    </tr>\n",
       "    <tr>\n",
       "      <th>k5f8hh</th>\n",
       "      <td>If it's bleeding, it must still be alive</td>\n",
       "      <td>160</td>\n",
       "      <td>wallstreetbets</td>\n",
       "      <td>https://i.redd.it/oll4goptit261.jpg</td>\n",
       "      <td>38</td>\n",
       "      <td></td>\n",
       "    </tr>\n",
       "    <tr>\n",
       "      <th>k5mvg9</th>\n",
       "      <td>Just don’t ask me for my all time chart...</td>\n",
       "      <td>51</td>\n",
       "      <td>wallstreetbets</td>\n",
       "      <td>https://i.redd.it/5a5ojrrgfv261.jpg</td>\n",
       "      <td>11</td>\n",
       "      <td></td>\n",
       "    </tr>\n",
       "    <tr>\n",
       "      <th>k5u2zj</th>\n",
       "      <td>Goldman on TSLA</td>\n",
       "      <td>10</td>\n",
       "      <td>wallstreetbets</td>\n",
       "      <td>https://www.reddit.com/r/wallstreetbets/commen...</td>\n",
       "      <td>3</td>\n",
       "      <td>Goldman long on TSLA\\n\\nhttps://www.tesmanian....</td>\n",
       "    </tr>\n",
       "    <tr>\n",
       "      <th>k5btj7</th>\n",
       "      <td>Truly a Momentus opportunity, dont let this on...</td>\n",
       "      <td>106</td>\n",
       "      <td>wallstreetbets</td>\n",
       "      <td>https://www.reddit.com/r/wallstreetbets/commen...</td>\n",
       "      <td>91</td>\n",
       "      <td>Hey kids,\\n\\nIm here today to talk to you abou...</td>\n",
       "    </tr>\n",
       "  </tbody>\n",
       "</table>\n",
       "<p>575 rows × 6 columns</p>\n",
       "</div>"
      ],
      "text/plain": [
       "                                                    title  score  \\\n",
       "id                                                                 \n",
       "k6tl0d  Weekend Discussion Thread for the Weekend of D...    308   \n",
       "k79htv                                          One of us   7359   \n",
       "k7anqp  200,000% Return. 4 Pre-split TSLA options purc...   1657   \n",
       "k76crq                                  It'd be like that   3766   \n",
       "k77i69                         WSB reading Citron reports   1919   \n",
       "...                                                   ...    ...   \n",
       "k58igt                                     GME PT Upgrade    491   \n",
       "k5f8hh           If it's bleeding, it must still be alive    160   \n",
       "k5mvg9         Just don’t ask me for my all time chart...     51   \n",
       "k5u2zj                                    Goldman on TSLA     10   \n",
       "k5btj7  Truly a Momentus opportunity, dont let this on...    106   \n",
       "\n",
       "             subreddit                                                url  \\\n",
       "id                                                                          \n",
       "k6tl0d  wallstreetbets  https://www.reddit.com/r/wallstreetbets/commen...   \n",
       "k79htv  wallstreetbets                https://i.redd.it/sd2g4vbf1e361.jpg   \n",
       "k7anqp  wallstreetbets                https://i.redd.it/wc6yi8xqce361.jpg   \n",
       "k76crq  wallstreetbets                    https://v.redd.it/1u8x1uimzc361   \n",
       "k77i69  wallstreetbets                    https://v.redd.it/ugx87npwed361   \n",
       "...                ...                                                ...   \n",
       "k58igt  wallstreetbets                          https://imgur.com/fludqTn   \n",
       "k5f8hh  wallstreetbets                https://i.redd.it/oll4goptit261.jpg   \n",
       "k5mvg9  wallstreetbets                https://i.redd.it/5a5ojrrgfv261.jpg   \n",
       "k5u2zj  wallstreetbets  https://www.reddit.com/r/wallstreetbets/commen...   \n",
       "k5btj7  wallstreetbets  https://www.reddit.com/r/wallstreetbets/commen...   \n",
       "\n",
       "        num_comments                                               body  \n",
       "id                                                                       \n",
       "k6tl0d         16732                    Your weekend discussion thread.  \n",
       "k79htv           169                                                     \n",
       "k7anqp           400                                                     \n",
       "k76crq           143                                                     \n",
       "k77i69            69                                                     \n",
       "...              ...                                                ...  \n",
       "k58igt            73                                                     \n",
       "k5f8hh            38                                                     \n",
       "k5mvg9            11                                                     \n",
       "k5u2zj             3  Goldman long on TSLA\\n\\nhttps://www.tesmanian....  \n",
       "k5btj7            91  Hey kids,\\n\\nIm here today to talk to you abou...  \n",
       "\n",
       "[575 rows x 6 columns]"
      ]
     },
     "execution_count": 6,
     "metadata": {},
     "output_type": "execute_result"
    }
   ],
   "source": [
    "# Extracting all features of subreddit posts\n",
    "posts = []\n",
    "subreddit = reddit.subreddit(subreddit_entry)\n",
    "for post in subreddit.hot(limit=600):\n",
    "    posts.append([post.title, post.score, post.id, post.subreddit, post.url, post.num_comments, post.selftext])\n",
    "posts = pd.DataFrame(posts,columns=['title', 'score', 'id', 'subreddit', 'url', 'num_comments', 'body'])\n",
    "#posts = posts.sort_values('score', ascending=False).set_index('id')\n",
    "posts.set_index('id')"
   ]
  },
  {
   "cell_type": "code",
   "execution_count": null,
   "metadata": {},
   "outputs": [],
   "source": [
    "#posts = posts.style.set_properties(**{'text-align': 'left'})"
   ]
  },
  {
   "cell_type": "code",
   "execution_count": 8,
   "metadata": {},
   "outputs": [],
   "source": [
    "# To save the dataframe as csv file\n",
    "posts.to_csv('wallstreetbets_hots_df_12_05.csv')"
   ]
  },
  {
   "cell_type": "code",
   "execution_count": null,
   "metadata": {
    "jupyter": {
     "source_hidden": true
    }
   },
   "outputs": [],
   "source": [
    "# Show the first 5 subreddit with the highest number of comments\n",
    "#top_5_subreddit = posts[:10]\n",
    "#top_5_subreddit"
   ]
  },
  {
   "cell_type": "code",
   "execution_count": null,
   "metadata": {
    "jupyter": {
     "source_hidden": true
    }
   },
   "outputs": [],
   "source": [
    "#top_10_id = top_5_subreddit.index[:10]"
   ]
  },
  {
   "cell_type": "code",
   "execution_count": null,
   "metadata": {
    "jupyter": {
     "source_hidden": true
    }
   },
   "outputs": [],
   "source": [
    "# Get comments from a subreddit entry\n",
    "#submission = reddit.submission(id=top_10_id.all())\n",
    "#for top_comments in "
   ]
  },
  {
   "cell_type": "code",
   "execution_count": null,
   "metadata": {
    "jupyter": {
     "source_hidden": true
    }
   },
   "outputs": [],
   "source": [
    "#submission_test = reddit.submission(id='k16s4m')\n",
    "#for top_level_comment in submission_test.comments:\n",
    "    #print(top_level_comment.body)"
   ]
  },
  {
   "cell_type": "code",
   "execution_count": null,
   "metadata": {
    "jupyter": {
     "source_hidden": true
    }
   },
   "outputs": [],
   "source": [
    "# Get comments of a subreddit \n",
    "#for top_level_comment in submission.comments:\n",
    " #   print(top_level_comment.body)"
   ]
  },
  {
   "cell_type": "code",
   "execution_count": null,
   "metadata": {
    "jupyter": {
     "source_hidden": true
    }
   },
   "outputs": [],
   "source": [
    "# Get comments from a subreddit entry\n",
    "#submission = reddit.submission(id=str(top_5_subreddit))\n",
    "#submission"
   ]
  },
  {
   "cell_type": "code",
   "execution_count": null,
   "metadata": {
    "jupyter": {
     "source_hidden": true
    }
   },
   "outputs": [],
   "source": [
    "#sub = [\"k10wlp\", \"k0v9of\", \"k0v9of\", \"k16e40\", \"k12s2t\"]\n",
    "#submission = reddit.submission(id=[\"k10wlp\", \"k0v9of\", \"k0v9of\", \"k16e40\", \"k12s2t\"])"
   ]
  },
  {
   "cell_type": "code",
   "execution_count": null,
   "metadata": {
    "jupyter": {
     "source_hidden": true
    }
   },
   "outputs": [],
   "source": [
    "#for i in top_5_subreddit:\n",
    "#    print(reddit.submission.comments(top_5_subreddit))"
   ]
  },
  {
   "cell_type": "code",
   "execution_count": null,
   "metadata": {
    "jupyter": {
     "source_hidden": true
    }
   },
   "outputs": [],
   "source": [
    "#from praw.models import MoreComments\n",
    "#for top_level_comments in submission.comments:\n",
    "#    if isinstance(top_level_comments, MoreComments):\n",
    "#        continue\n",
    "#    print(top_level_comments.body)"
   ]
  },
  {
   "cell_type": "code",
   "execution_count": null,
   "metadata": {
    "jupyter": {
     "source_hidden": true
    }
   },
   "outputs": [],
   "source": [
    "#submission.comments.replace_more(limit=1)\n",
    "#for comment in submission.comments.list():\n",
    "#    print(comment.body)"
   ]
  },
  {
   "cell_type": "code",
   "execution_count": null,
   "metadata": {},
   "outputs": [],
   "source": []
  }
 ],
 "metadata": {
  "kernelspec": {
   "display_name": "Python 3",
   "language": "python",
   "name": "python3"
  },
  "language_info": {
   "codemirror_mode": {
    "name": "ipython",
    "version": 3
   },
   "file_extension": ".py",
   "mimetype": "text/x-python",
   "name": "python",
   "nbconvert_exporter": "python",
   "pygments_lexer": "ipython3",
   "version": "3.8.2"
  }
 },
 "nbformat": 4,
 "nbformat_minor": 4
}
